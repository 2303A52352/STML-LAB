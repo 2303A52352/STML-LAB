{
  "nbformat": 4,
  "nbformat_minor": 0,
  "metadata": {
    "colab": {
      "provenance": [],
      "authorship_tag": "ABX9TyPzmrPDUx/RaB6M8XvaDrrM",
      "include_colab_link": true
    },
    "kernelspec": {
      "name": "python3",
      "display_name": "Python 3"
    },
    "language_info": {
      "name": "python"
    }
  },
  "cells": [
    {
      "cell_type": "markdown",
      "metadata": {
        "id": "view-in-github",
        "colab_type": "text"
      },
      "source": [
        "<a href=\"https://colab.research.google.com/github/2303A52352/STML-LAB/blob/main/Stml%20proect.ipynb\" target=\"_parent\"><img src=\"https://colab.research.google.com/assets/colab-badge.svg\" alt=\"Open In Colab\"/></a>"
      ]
    },
    {
      "cell_type": "markdown",
      "source": [
        "SVM :"
      ],
      "metadata": {
        "id": "N7JOGJfMatyB"
      }
    },
    {
      "source": [
        "import pandas as pd # import the pandas library and assign it to the alias 'pd'\n",
        "from sklearn.svm import SVC\n",
        "from sklearn.metrics import confusion_matrix, accuracy_score, precision_score, recall_score, f1_score\n",
        "from sklearn.model_selection import train_test_split\n",
        "from sklearn.preprocessing import StandardScaler\n",
        "\n",
        "# Load the dataset\n",
        "data = pd.read_csv('/content/train.csv')  # Replace with the correct file path\n",
        "\n",
        "# Split dataset into features and target variable\n",
        "X = data.drop(columns=['price_range'])\n",
        "y = data['price_range']\n",
        "\n",
        "# Train-test split\n",
        "X_train, X_test, y_train, y_test = train_test_split(X, y, test_size=0.3, random_state=42)\n",
        "\n",
        "# Standardize features for SVM\n",
        "scaler = StandardScaler()\n",
        "X_train = scaler.fit_transform(X_train)\n",
        "X_test = scaler.transform(X_test)\n",
        "\n",
        "# Initialize the SVM model\n",
        "svm = SVC(random_state=42)\n",
        "\n",
        "# Train the SVM model on the training data\n",
        "svm.fit(X_train, y_train)\n",
        "\n",
        "# Predict on the test set\n",
        "y_pred_svm = svm.predict(X_test)\n",
        "\n",
        "# Calculate evaluation metrics\n",
        "conf_matrix_svm = confusion_matrix(y_test, y_pred_svm)\n",
        "accuracy_svm = accuracy_score(y_test, y_pred_svm)\n",
        "precision_svm = precision_score(y_test, y_pred_svm, average=\"weighted\")\n",
        "recall_svm = recall_score(y_test, y_pred_svm, average=\"weighted\")\n",
        "f1_svm = f1_score(y_test, y_pred_svm, average=\"weighted\")\n",
        "\n",
        "# Display results\n",
        "print(\"SVM Model Evaluation Metrics:\")\n",
        "print(\"Confusion Matrix:\\n\", conf_matrix_svm)\n",
        "print(\"Accuracy:\", accuracy_svm)\n",
        "print(\"Precision:\", precision_svm)\n",
        "print(\"Recall:\", recall_svm)\n",
        "print(\"F1 Score:\", f1_svm)"
      ],
      "cell_type": "code",
      "metadata": {
        "colab": {
          "base_uri": "https://localhost:8080/"
        },
        "id": "vJzkyphAaDN0",
        "outputId": "37801f50-0b4e-467d-fb7e-d73bd1547528"
      },
      "execution_count": null,
      "outputs": [
        {
          "output_type": "stream",
          "name": "stdout",
          "text": [
            "SVM Model Evaluation Metrics:\n",
            "Confusion Matrix:\n",
            " [[135  16   0   0]\n",
            " [ 14 123   9   0]\n",
            " [  0  19 122   7]\n",
            " [  0   0  13 142]]\n",
            "Accuracy: 0.87\n",
            "Precision: 0.8726288634654535\n",
            "Recall: 0.87\n",
            "F1 Score: 0.8708643354962748\n"
          ]
        }
      ]
    },
    {
      "cell_type": "markdown",
      "source": [
        "Decision tree :"
      ],
      "metadata": {
        "id": "PntiAAUZax7q"
      }
    },
    {
      "cell_type": "code",
      "source": [
        "import pandas as pd\n",
        "from sklearn.model_selection import train_test_split\n",
        "from sklearn.tree import DecisionTreeClassifier\n",
        "from sklearn.metrics import confusion_matrix, accuracy_score, precision_score, recall_score, f1_score\n",
        "from sklearn.preprocessing import StandardScaler\n",
        "\n",
        "# Load the dataset\n",
        "data = pd.read_csv('/content/train.csv')  # Replace with the correct file path\n",
        "\n",
        "# Split dataset into features and target variable\n",
        "X = data.drop(columns=['price_range'])\n",
        "y = data['price_range']\n",
        "\n",
        "# Train-test split\n",
        "X_train, X_test, y_train, y_test = train_test_split(X, y, test_size=0.3, random_state=42)\n",
        "\n",
        "# Standardize features (optional, depending on whether you find it beneficial for Decision Trees)\n",
        "scaler = StandardScaler()\n",
        "X_train = scaler.fit_transform(X_train)\n",
        "X_test = scaler.transform(X_test)\n",
        "\n",
        "# Initialize the Decision Tree model\n",
        "decision_tree = DecisionTreeClassifier(random_state=42)\n",
        "\n",
        "# Train the Decision Tree model on the training data\n",
        "decision_tree.fit(X_train, y_train)\n",
        "\n",
        "# Predict on the test set\n",
        "y_pred_decision_tree = decision_tree.predict(X_test)\n",
        "\n",
        "# Calculate evaluation metrics\n",
        "conf_matrix_decision_tree = confusion_matrix(y_test, y_pred_decision_tree)\n",
        "accuracy_decision_tree = accuracy_score(y_test, y_pred_decision_tree)\n",
        "precision_decision_tree = precision_score(y_test, y_pred_decision_tree, average=\"weighted\")\n",
        "recall_decision_tree = recall_score(y_test, y_pred_decision_tree, average=\"weighted\")\n",
        "f1_decision_tree = f1_score(y_test, y_pred_decision_tree, average=\"weighted\")\n",
        "\n",
        "# Display results\n",
        "print(\"Decision Tree Model Evaluation Metrics:\")\n",
        "print(\"Confusion Matrix:\\n\", conf_matrix_decision_tree)\n",
        "print(\"Accuracy:\", accuracy_decision_tree)\n",
        "print(\"Precision:\", precision_decision_tree)\n",
        "print(\"Recall:\", recall_decision_tree)\n",
        "print(\"F1 Score:\", f1_decision_tree)\n"
      ],
      "metadata": {
        "colab": {
          "base_uri": "https://localhost:8080/"
        },
        "id": "D_gNb49VbFum",
        "outputId": "5fbbbc10-e009-4f21-a671-58678b0c852b"
      },
      "execution_count": null,
      "outputs": [
        {
          "output_type": "stream",
          "name": "stdout",
          "text": [
            "Decision Tree Model Evaluation Metrics:\n",
            "Confusion Matrix:\n",
            " [[131  20   0   0]\n",
            " [ 13 118  14   1]\n",
            " [  0  20 110  18]\n",
            " [  0   0  22 133]]\n",
            "Accuracy: 0.82\n",
            "Precision: 0.8225631325902806\n",
            "Recall: 0.82\n",
            "F1 Score: 0.8208309223770967\n"
          ]
        }
      ]
    },
    {
      "cell_type": "markdown",
      "source": [
        "Random forest :"
      ],
      "metadata": {
        "id": "k3pXP-z3bLtI"
      }
    },
    {
      "cell_type": "code",
      "source": [
        "import pandas as pd\n",
        "from sklearn.model_selection import train_test_split\n",
        "from sklearn.ensemble import RandomForestClassifier\n",
        "from sklearn.metrics import confusion_matrix, accuracy_score, precision_score, recall_score, f1_score\n",
        "from sklearn.preprocessing import StandardScaler\n",
        "\n",
        "# Load the dataset\n",
        "data = pd.read_csv('/content/train.csv')  # Replace with the correct file path\n",
        "\n",
        "# Split dataset into features and target variable\n",
        "X = data.drop(columns=['price_range'])\n",
        "y = data['price_range']\n",
        "\n",
        "# Train-test split\n",
        "X_train, X_test, y_train, y_test = train_test_split(X, y, test_size=0.3, random_state=42)\n",
        "\n",
        "# Standardize features (optional for Random Forest, typically not required)\n",
        "scaler = StandardScaler()\n",
        "X_train = scaler.fit_transform(X_train)\n",
        "X_test = scaler.transform(X_test)\n",
        "\n",
        "# Initialize the Random Forest model\n",
        "random_forest = RandomForestClassifier(random_state=42)\n",
        "\n",
        "# Train the Random Forest model on the training data\n",
        "random_forest.fit(X_train, y_train)\n",
        "\n",
        "# Predict on the test set\n",
        "y_pred_random_forest = random_forest.predict(X_test)\n",
        "\n",
        "# Calculate evaluation metrics\n",
        "conf_matrix_random_forest = confusion_matrix(y_test, y_pred_random_forest)\n",
        "accuracy_random_forest = accuracy_score(y_test, y_pred_random_forest)\n",
        "precision_random_forest = precision_score(y_test, y_pred_random_forest, average=\"weighted\")\n",
        "recall_random_forest = recall_score(y_test, y_pred_random_forest, average=\"weighted\")\n",
        "f1_random_forest = f1_score(y_test, y_pred_random_forest, average=\"weighted\")\n",
        "\n",
        "# Display results\n",
        "print(\"Random Forest Model Evaluation Metrics:\")\n",
        "print(\"Confusion Matrix:\\n\", conf_matrix_random_forest)\n",
        "print(\"Accuracy:\", accuracy_random_forest)\n",
        "print(\"Precision:\", precision_random_forest)\n",
        "print(\"Recall:\", recall_random_forest)\n",
        "print(\"F1 Score:\", f1_random_forest)\n"
      ],
      "metadata": {
        "colab": {
          "base_uri": "https://localhost:8080/"
        },
        "id": "4t9MgnV6bd5-",
        "outputId": "988a91ac-a47c-4329-8363-884387264035"
      },
      "execution_count": null,
      "outputs": [
        {
          "output_type": "stream",
          "name": "stdout",
          "text": [
            "Random Forest Model Evaluation Metrics:\n",
            "Confusion Matrix:\n",
            " [[144   7   0   0]\n",
            " [ 10 120  16   0]\n",
            " [  0  21 115  12]\n",
            " [  0   0  13 142]]\n",
            "Accuracy: 0.8683333333333333\n",
            "Precision: 0.8678161765661766\n",
            "Recall: 0.8683333333333333\n",
            "F1 Score: 0.8680036156968075\n"
          ]
        }
      ]
    },
    {
      "cell_type": "markdown",
      "source": [
        "KNN :"
      ],
      "metadata": {
        "id": "Sm4_rYJ0bvSO"
      }
    },
    {
      "cell_type": "code",
      "source": [
        "import pandas as pd\n",
        "from sklearn.model_selection import train_test_split\n",
        "from sklearn.neighbors import KNeighborsClassifier\n",
        "from sklearn.metrics import confusion_matrix, accuracy_score, precision_score, recall_score, f1_score\n",
        "from sklearn.preprocessing import StandardScaler\n",
        "\n",
        "# Load the dataset\n",
        "data = pd.read_csv('/content/train.csv')  # Replace with the correct file path\n",
        "\n",
        "# Split dataset into features and target variable\n",
        "X = data.drop(columns=['price_range'])\n",
        "y = data['price_range']\n",
        "\n",
        "# Train-test split\n",
        "X_train, X_test, y_train, y_test = train_test_split(X, y, test_size=0.3, random_state=42)\n",
        "\n",
        "# Standardize features for KNN (KNN is sensitive to feature scales)\n",
        "scaler = StandardScaler()\n",
        "X_train = scaler.fit_transform(X_train)\n",
        "X_test = scaler.transform(X_test)\n",
        "\n",
        "# Initialize the KNN model (default n_neighbors=5, adjust as needed)\n",
        "knn = KNeighborsClassifier(n_neighbors=5)\n",
        "\n",
        "# Train the KNN model on the training data\n",
        "knn.fit(X_train, y_train)\n",
        "\n",
        "# Predict on the test set\n",
        "y_pred_knn = knn.predict(X_test)\n",
        "\n",
        "# Calculate evaluation metrics\n",
        "conf_matrix_knn = confusion_matrix(y_test, y_pred_knn)\n",
        "accuracy_knn = accuracy_score(y_test, y_pred_knn)\n",
        "precision_knn = precision_score(y_test, y_pred_knn, average=\"weighted\")\n",
        "recall_knn = recall_score(y_test, y_pred_knn, average=\"weighted\")\n",
        "f1_knn = f1_score(y_test, y_pred_knn, average=\"weighted\")\n",
        "\n",
        "# Display results\n",
        "print(\"K-Nearest Neighbors (KNN) Model Evaluation Metrics:\")\n",
        "print(\"Confusion Matrix:\\n\", conf_matrix_knn)\n",
        "print(\"Accuracy:\", accuracy_knn)\n",
        "print(\"Precision:\", precision_knn)\n",
        "print(\"Recall:\", recall_knn)\n",
        "print(\"F1 Score:\", f1_knn)\n"
      ],
      "metadata": {
        "id": "3pYFuyYVbwuZ",
        "outputId": "8fb26edf-5c92-4645-a77b-7991e8119124",
        "colab": {
          "base_uri": "https://localhost:8080/"
        }
      },
      "execution_count": null,
      "outputs": [
        {
          "output_type": "stream",
          "name": "stdout",
          "text": [
            "K-Nearest Neighbors (KNN) Model Evaluation Metrics:\n",
            "Confusion Matrix:\n",
            " [[110  35   6   0]\n",
            " [ 44  68  30   4]\n",
            " [  9  58  59  22]\n",
            " [  4  18  62  71]]\n",
            "Accuracy: 0.5133333333333333\n",
            "Precision: 0.5399936793957942\n",
            "Recall: 0.5133333333333333\n",
            "F1 Score: 0.5169351327585475\n"
          ]
        }
      ]
    }
  ]
}