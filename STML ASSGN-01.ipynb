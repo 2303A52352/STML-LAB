{
  "nbformat": 4,
  "nbformat_minor": 0,
  "metadata": {
    "colab": {
      "provenance": [],
      "authorship_tag": "ABX9TyMls+tsYman1NBe4WtVJ3CM",
      "include_colab_link": true
    },
    "kernelspec": {
      "name": "python3",
      "display_name": "Python 3"
    },
    "language_info": {
      "name": "python"
    }
  },
  "cells": [
    {
      "cell_type": "markdown",
      "metadata": {
        "id": "view-in-github",
        "colab_type": "text"
      },
      "source": [
        "<a href=\"https://colab.research.google.com/github/2303A52352/STML-LAB/blob/main/Stmlassgn_01.ipynb\" target=\"_parent\"><img src=\"https://colab.research.google.com/assets/colab-badge.svg\" alt=\"Open In Colab\"/></a>"
      ]
    },
    {
      "cell_type": "code",
      "execution_count": 1,
      "metadata": {
        "colab": {
          "base_uri": "https://localhost:8080/",
          "height": 447
        },
        "id": "toBPqixOyKV6",
        "outputId": "dbe2b9bc-0317-46f6-ad77-b2485453b88b"
      },
      "outputs": [
        {
          "output_type": "display_data",
          "data": {
            "text/plain": [
              "<Figure size 640x480 with 1 Axes>"
            ],
            "image/png": "[encoded data removed]"
          },
          "metadata": {}
        },
        {
          "output_type": "stream",
          "name": "stdout",
          "text": [
            "E Tharun,2303A52352\n"
          ]
        }
      ],
      "source": [
        "\n",
        "import matplotlib.pyplot as plt\n",
        "import numpy as np\n",
        "x = np.array([2.3,2.5,3.6,2.8,3.1,2.9,3.2,2.7,2.8,3.0])\n",
        "bins = 5\n",
        "plt.hist(x,bins,color='black')\n",
        "plt.show()\n",
        "print(\"E Tharun,2303A52352\")"
      ]
    },
    {
      "cell_type": "code",
      "source": [
        "import numpy as np\n",
        "import pandas as pd\n",
        "import scipy as sc\n",
        "import statistics as stat\n",
        "from scipy.stats import skew\n",
        "from scipy.stats import kurtosis\n",
        "from scipy.stats import iqr\n",
        "dependent_var = np.array([4,5,8,2,4,2,5])\n",
        "independent_var = np.array([5,6,3,8,3,7,8])\n",
        "print(\"Mean value of dependent_var:\")\n",
        "print(np.mean(dependent_var))\n",
        "print(\"Mean value of independent_var:\" )\n",
        "print(np.mean(independent_var))\n",
        "print(\"Mean value of dependent var+independent_var:\" )\n",
        "print(np.mean(dependent_var+independent_var))\n",
        "print(\"Median value of dependent_var:\")\n",
        "print(np.median(dependent_var))\n",
        "print(\"Median value of independent_var:\")\n",
        "print(np.median(independent_var))\n",
        "print(\"Median value of dependent var+independent_var:\")\n",
        "print(np.median(dependent_var+independent_var))"
      ],
      "metadata": {
        "colab": {
          "base_uri": "https://localhost:8080/"
        },
        "id": "y1JGgKN8yf5J",
        "outputId": "e0e72c87-382d-407d-e265-5ddd918d26c7"
      },
      "execution_count": 2,
      "outputs": [
        {
          "output_type": "stream",
          "name": "stdout",
          "text": [
            "Mean value of dependent_var:\n",
            "4.285714285714286\n",
            "Mean value of independent_var:\n",
            "5.714285714285714\n",
            "Mean value of dependent var+independent_var:\n",
            "10.0\n",
            "Median value of dependent_var:\n",
            "4.0\n",
            "Median value of independent_var:\n",
            "6.0\n",
            "Median value of dependent var+independent_var:\n",
            "10.0\n"
          ]
        }
      ]
    },
    {
      "cell_type": "code",
      "source": [
        " def find_mode(arr):\n",
        "  counts = np.bincount(arr)\n",
        "  mode = np.argmax(counts)\n",
        "  return mode\n",
        "mode_dependent = find_mode(dependent_var)\n",
        "mode_independent = find_mode(independent_var)\n",
        "print(\"Mode for dependent_var:\",mode_dependent)\n",
        "print(\"Mode for independent_var:\",mode_independent)\n",
        "print(\"Mode for dependent_var+independent_var:\",(mode_dependent+mode_independent))"
      ],
      "metadata": {
        "colab": {
          "base_uri": "https://localhost:8080/"
        },
        "id": "XWjQEZRXyjoQ",
        "outputId": "3a9c25fb-3147-4326-bdde-dbd111c9effa"
      },
      "execution_count": 3,
      "outputs": [
        {
          "output_type": "stream",
          "name": "stdout",
          "text": [
            "Mode for dependent_var: 2\n",
            "Mode for independent_var: 3\n",
            "Mode for dependent_var+independent_var: 5\n"
          ]
        }
      ]
    },
    {
      "cell_type": "code",
      "source": [
        "print(\"Variance of dependent_var:\")\n",
        "print(np.var(dependent_var))\n",
        "print(\"Variance of independent_var:\")\n",
        "print(np.var(independent_var))\n",
        "print(\"Variance of dependent_var+independent_var:\")\n",
        "print(np.var(dependent_var+independent_var))"
      ],
      "metadata": {
        "colab": {
          "base_uri": "https://localhost:8080/"
        },
        "id": "i_YFUopuynij",
        "outputId": "446e83d5-32e7-45bd-c9fb-73cfca76272d"
      },
      "execution_count": 4,
      "outputs": [
        {
          "output_type": "stream",
          "name": "stdout",
          "text": [
            "Variance of dependent_var:\n",
            "3.6326530612244894\n",
            "Variance of independent_var:\n",
            "3.918367346938776\n",
            "Variance of dependent_var+independent_var:\n",
            "3.142857142857143\n"
          ]
        }
      ]
    },
    {
      "cell_type": "code",
      "source": [
        "print(\"Standard Deviation of dependent_var:\")\n",
        "print(np.std(dependent_var))\n",
        "print(\"Standard Deviation of independent_var:\")\n",
        "print(np.std(independent_var))\n",
        "print(\"Standard Deviation of dependent_var+independent_var:\")\n",
        "print(np.std(dependent_var+independent_var))\n",
        "print(\"Range of dependent_var:\")\n",
        "print(np.max(dependent_var)-np.min(dependent_var))\n",
        "print(\"Range of independent_var:\")\n",
        "print(np.max(independent_var)-np.min(independent_var))\n",
        "print(\"Range of dependent_var+independent_var:\")\n",
        "print(np.max(dependent_var+independent_var)-np.min(dependent_var+independent_var))"
      ],
      "metadata": {
        "colab": {
          "base_uri": "https://localhost:8080/"
        },
        "id": "FXG0WTdZyrhK",
        "outputId": "37bc364f-0253-4515-b457-1509968fad51"
      },
      "execution_count": 5,
      "outputs": [
        {
          "output_type": "stream",
          "name": "stdout",
          "text": [
            "Standard Deviation of dependent_var:\n",
            "1.9059520091609048\n",
            "Standard Deviation of independent_var:\n",
            "1.979486637221574\n",
            "Standard Deviation of dependent_var+independent_var:\n",
            "1.7728105208558367\n",
            "Range of dependent_var:\n",
            "6\n",
            "Range of independent_var:\n",
            "5\n",
            "Range of dependent_var+independent_var:\n",
            "6\n"
          ]
        }
      ]
    },
    {
      "cell_type": "code",
      "source": [
        "print(\"IQR of dependent_var:\")\n",
        "print(iqr(dependent_var))\n",
        "print(\"IQR of independent_var:\")\n",
        "print(iqr(independent_var))\n",
        "print(\"IQR of dependent_var+independent_var:\")\n",
        "print(iqr(dependent_var+independent_var))\n",
        "print(\"Skewness of the dependent_var:\",skew(dependent_var,axis=0,bias=True))\n",
        "print(\"Skewness of the independent_var:\",skew(independent_var,axis=0,bias=True))\n",
        "print(\"Skewness of the dependent_var+independent_var:\",skew(dependent_var+independent_var,axis=0,bias=True))\n",
        "print(\"Kurtosis of the dependent_var:\",kurtosis(dependent_var,axis=0,bias=True))\n",
        "print(\"Kurtosis of the independent_var:\",kurtosis(independent_var,axis=0,bias=True))\n",
        "print(\"Kurtosis of the dependent_var+independent_var:,\",kurtosis(dependent_var+independent_var,axis=0,bias=True))"
      ],
      "metadata": {
        "colab": {
          "base_uri": "https://localhost:8080/"
        },
        "id": "StEMu3hwyugG",
        "outputId": "323e62ef-5b36-4d34-e3ec-bdb80249cd1b"
      },
      "execution_count": 6,
      "outputs": [
        {
          "output_type": "stream",
          "name": "stdout",
          "text": [
            "IQR of dependent_var:\n",
            "2.0\n",
            "IQR of independent_var:\n",
            "3.5\n",
            "IQR of dependent_var+independent_var:\n",
            "2.0\n",
            "Skewness of the dependent_var: 0.5785710902698393\n",
            "Skewness of the independent_var: -0.26386711521557127\n",
            "Skewness of the dependent_var+independent_var: 0.0\n",
            "Kurtosis of the dependent_var: -0.34282287589950755\n",
            "Kurtosis of the independent_var: -1.4541015625000002\n",
            "Kurtosis of the dependent_var+independent_var:, -0.5991735537190079\n"
          ]
        }
      ]
    },
    {
      "cell_type": "code",
      "source": [
        "\n",
        "from google.colab import drive\n",
        "drive.mount('/content/drive')"
      ],
      "metadata": {
        "colab": {
          "base_uri": "https://localhost:8080/"
        },
        "id": "BCMT64KUyx2g",
        "outputId": "b7e8c8a0-528b-4c7c-946b-a68d69df3392"
      },
      "execution_count": 7,
      "outputs": [
        {
          "output_type": "stream",
          "name": "stdout",
          "text": [
            "Mounted at /content/drive\n"
          ]
        }
      ]
    },
    {
      "cell_type": "code",
      "source": [
        "d = pd.read_csv('/content/archive (2) (1).zip')\n",
        "print(d)\n",
        ""
      ],
      "metadata": {
        "colab": {
          "base_uri": "https://localhost:8080/"
        },
        "id": "CNPb38oBy6_8",
        "outputId": "b50a6241-effe-4dce-a000-887ab297fec0"
      },
      "execution_count": 9,
      "outputs": [
        {
          "output_type": "stream",
          "name": "stdout",
          "text": [
            "      Avg. Area Income  Avg. Area House Age  Avg. Area Number of Rooms  \\\n",
            "0          79545.45857             5.682861                   7.009188   \n",
            "1          79248.64245             6.002900                   6.730821   \n",
            "2          61287.06718             5.865890                   8.512727   \n",
            "3          63345.24005             7.188236                   5.586729   \n",
            "4          59982.19723             5.040555                   7.839388   \n",
            "...                ...                  ...                        ...   \n",
            "4995       60567.94414             7.830362                   6.137356   \n",
            "4996       78491.27543             6.999135                   6.576763   \n",
            "4997       63390.68689             7.250591                   4.805081   \n",
            "4998       68001.33124             5.534388                   7.130144   \n",
            "4999       65510.58180             5.992305                   6.792336   \n",
            "\n",
            "      Avg. Area Number of Bedrooms  Area Population         Price  \n",
            "0                             4.09      23086.80050  1.059034e+06  \n",
            "1                             3.09      40173.07217  1.505891e+06  \n",
            "2                             5.13      36882.15940  1.058988e+06  \n",
            "3                             3.26      34310.24283  1.260617e+06  \n",
            "4                             4.23      26354.10947  6.309435e+05  \n",
            "...                            ...              ...           ...  \n",
            "4995                          3.46      22837.36103  1.060194e+06  \n",
            "4996                          4.02      25616.11549  1.482618e+06  \n",
            "4997                          2.13      33266.14549  1.030730e+06  \n",
            "4998                          5.44      42625.62016  1.198657e+06  \n",
            "4999                          4.07      46501.28380  1.298950e+06  \n",
            "\n",
            "[5000 rows x 6 columns]\n"
          ]
        }
      ]
    },
    {
      "source": [
        "!pip install pandas\n",
        "\n",
        "import pandas as pd\n",
        "import zipfile\n",
        "import numpy as np\n",
        "\n",
        "\n",
        "# Assuming the CSV file is within the ZIP archive\n",
        "with zipfile.ZipFile('/content/archive (2) (1).zip', 'r') as zip_ref:\n",
        "    # Get a list of files in the archive\n",
        "    files = zip_ref.namelist()\n",
        "    # Assuming the CSV file is the first file in the archive\n",
        "    csv_file = files[0]\n",
        "    # Read the CSV file into a pandas DataFrame\n",
        "    d = pd.read_csv(zip_ref.open(csv_file))\n",
        "\n",
        "# Print the column names to verify if 'longitude' exists\n",
        "print(\"Columns in the DataFrame:\", d.columns)\n",
        "\n",
        "# Now, access the columns using their actual names\n",
        "# For example, if the column for longitude is named 'Lng', use d['Lng']\n",
        "print(\"Mean Value of Avg. Area Income\") # Changed to an existing column name\n",
        "print(np.mean(d['Avg. Area Income']))\n",
        "print(\"Mean Value of Avg. Area House Age\") # Changed to an existing column name\n",
        "print(np.mean(d['Avg. Area House Age']))\n",
        "# ... (access other columns similarly)"
      ],
      "cell_type": "code",
      "metadata": {
        "colab": {
          "base_uri": "https://localhost:8080/"
        },
        "id": "RXvxZIWWz6tK",
        "outputId": "786dd68a-46a0-4ade-b8a7-8529873f4929"
      },
      "execution_count": 14,
      "outputs": [
        {
          "output_type": "stream",
          "name": "stdout",
          "text": [
            "Requirement already satisfied: pandas in /usr/local/lib/python3.10/dist-packages (2.2.2)\n",
            "Requirement already satisfied: numpy>=1.22.4 in /usr/local/lib/python3.10/dist-packages (from pandas) (1.26.4)\n",
            "Requirement already satisfied: python-dateutil>=2.8.2 in /usr/local/lib/python3.10/dist-packages (from pandas) (2.8.2)\n",
            "Requirement already satisfied: pytz>=2020.1 in /usr/local/lib/python3.10/dist-packages (from pandas) (2024.2)\n",
            "Requirement already satisfied: tzdata>=2022.7 in /usr/local/lib/python3.10/dist-packages (from pandas) (2024.2)\n",
            "Requirement already satisfied: six>=1.5 in /usr/local/lib/python3.10/dist-packages (from python-dateutil>=2.8.2->pandas) (1.16.0)\n",
            "Columns in the DataFrame: Index(['Avg. Area Income', 'Avg. Area House Age', 'Avg. Area Number of Rooms',\n",
            "       'Avg. Area Number of Bedrooms', 'Area Population', 'Price'],\n",
            "      dtype='object')\n",
            "Mean Value of Avg. Area Income\n",
            "68583.10898397\n",
            "Mean Value of Avg. Area House Age\n",
            "5.977222035287\n"
          ]
        }
      ]
    },
    {
      "source": [
        "print(\"Median Value of Avg. Area Income\") # Changed to an existing column name\n",
        "print(np.median(d['Avg. Area Income']))\n",
        "print(\"Median Value of Avg. Area House Age\") # Changed to an existing column name\n",
        "print(np.median(d['Avg. Area House Age']))\n",
        "print(\"Median Value of Avg. Area Number of Rooms\") # Changed to an existing column name\n",
        "print(np.median(d['Avg. Area Number of Rooms']))\n",
        "print(\"Median Value of Avg. Area Number of Bedrooms\") # Changed to an existing column name\n",
        "print(np.median(d['Avg. Area Number of Bedrooms']))\n",
        "print(\"Median Value of Area Population\") # Changed to an existing column name\n",
        "print(np.median(d['Area Population']))\n",
        "print(\"Median Value of Price\") # Changed to an existing column name\n",
        "print(np.median(d['Price']))"
      ],
      "cell_type": "code",
      "metadata": {
        "colab": {
          "base_uri": "https://localhost:8080/"
        },
        "id": "rCIpk0Iy0O3t",
        "outputId": "c1d326cb-ca8d-421d-e7be-7fa8d9ed4869"
      },
      "execution_count": 17,
      "outputs": [
        {
          "output_type": "stream",
          "name": "stdout",
          "text": [
            "Median Value of Avg. Area Income\n",
            "68804.28640499999\n",
            "Median Value of Avg. Area House Age\n",
            "5.970428947\n",
            "Median Value of Avg. Area Number of Rooms\n",
            "7.0029019869999996\n",
            "Median Value of Avg. Area Number of Bedrooms\n",
            "4.05\n",
            "Median Value of Area Population\n",
            "36199.40669\n",
            "Median Value of Price\n",
            "1232669.378\n"
          ]
        }
      ]
    },
    {
      "source": [
        "print(\"Mode Value of Avg. Area Income\") # Changed to an existing column name\n",
        "print(d['Avg. Area Income'].mode())\n",
        "print(\"\")\n",
        "print(\"Mode Value of Avg. Area House Age\") # Changed to an existing column name\n",
        "print(d['Avg. Area House Age'].mode())\n",
        "print(\"\")\n",
        "print(\"Mode Value of Avg. Area Number of Rooms\") # Changed to an existing column name\n",
        "print(d['Avg. Area Number of Rooms'].mode())\n",
        "print(\"\")\n",
        "print(\"Mode Value of Avg. Area Number of Bedrooms\") # Changed to an existing column name\n",
        "print(d['Avg. Area Number of Bedrooms'].mode())"
      ],
      "cell_type": "code",
      "metadata": {
        "colab": {
          "base_uri": "https://localhost:8080/"
        },
        "id": "MV0iOoKh0YEu",
        "outputId": "0b2fb9d3-a06b-43bb-98f8-ca9b6d1b06d5"
      },
      "execution_count": 19,
      "outputs": [
        {
          "output_type": "stream",
          "name": "stdout",
          "text": [
            "Mode Value of Avg. Area Income\n",
            "0        17796.63119\n",
            "1        35454.71466\n",
            "2        35608.98624\n",
            "3        35797.32312\n",
            "4        35963.33081\n",
            "            ...     \n",
            "4995    101599.67060\n",
            "4996    101928.85810\n",
            "4997    102881.12090\n",
            "4998    104702.72430\n",
            "4999    107701.74840\n",
            "Name: Avg. Area Income, Length: 5000, dtype: float64\n",
            "\n",
            "Mode Value of Avg. Area House Age\n",
            "0       2.644304\n",
            "1       2.683043\n",
            "2       2.797215\n",
            "3       2.797619\n",
            "4       2.922736\n",
            "          ...   \n",
            "4995    8.973441\n",
            "4996    8.991399\n",
            "4997    9.008900\n",
            "4998    9.125283\n",
            "4999    9.519088\n",
            "Name: Avg. Area House Age, Length: 5000, dtype: float64\n",
            "\n",
            "Mode Value of Avg. Area Number of Rooms\n",
            "0        3.236194\n",
            "1        3.950225\n",
            "2        3.950973\n",
            "3        3.969632\n",
            "4        4.027931\n",
            "          ...    \n",
            "4995    10.024375\n",
            "4996    10.144988\n",
            "4997    10.219902\n",
            "4998    10.280022\n",
            "4999    10.759588\n",
            "Name: Avg. Area Number of Rooms, Length: 5000, dtype: float64\n",
            "\n",
            "Mode Value of Avg. Area Number of Bedrooms\n",
            "0    4.38\n",
            "Name: Avg. Area Number of Bedrooms, dtype: float64\n"
          ]
        }
      ]
    },
    {
      "cell_type": "code",
      "source": [],
      "metadata": {
        "id": "9PNj_Eox0jCq"
      },
      "execution_count": null,
      "outputs": []
    },
    {
      "source": [
        "print(\"Range value of Avg. Area Income\") # Changed to an existing column name\n",
        "print(np.max(d['Avg. Area Income'])-np.min(d['Avg. Area Income']))\n",
        "print(\"\")\n",
        "print(\"Range value of Avg. Area House Age\") # Changed to an existing column name\n",
        "print(np.max(d['Avg. Area House Age'])-np.min(d['Avg. Area House Age']))\n",
        "print(\"\")\n",
        "print(\"Range value of Avg. Area Number of Rooms\") # Changed to an existing column name\n",
        "print(np.max(d['Avg. Area Number of Rooms'])-np.min(d['Avg. Area Number of Rooms']))\n",
        "print(\"\")\n",
        "print(\"Range value of Avg. Area Number of Bedrooms\") # Changed to an existing column name\n",
        "print(np.max(d['Avg. Area Number of Bedrooms'])-np.min(d['Avg. Area Number of Bedrooms']))\n",
        "print(\"\")\n",
        "print(\"Range value of Area Population\") # Changed to an existing column name\n",
        "print(np.max(d['Area Population'])-np.min(d['Area Population']))\n",
        "print(\"\")\n",
        "print(\"Range value of Price\") # Changed to an existing column name\n",
        "print(np.max(d['Price'])-np.min(d['Price']))\n",
        "print(\"\")"
      ],
      "cell_type": "code",
      "metadata": {
        "colab": {
          "base_uri": "https://localhost:8080/"
        },
        "id": "Uayd7LBm0nyO",
        "outputId": "7d49ce71-ef16-4ca5-d4f0-bdcebe721148"
      },
      "execution_count": 21,
      "outputs": [
        {
          "output_type": "stream",
          "name": "stdout",
          "text": [
            "Range value of Avg. Area Income\n",
            "89905.11721\n",
            "\n",
            "Range value of Avg. Area House Age\n",
            "6.874783880000001\n",
            "\n",
            "Range value of Avg. Area Number of Rooms\n",
            "7.523394317000001\n",
            "\n",
            "Range value of Avg. Area Number of Bedrooms\n",
            "4.5\n",
            "\n",
            "Range value of Area Population\n",
            "69449.1026937\n",
            "\n",
            "Range value of Price\n",
            "2453126.93608\n",
            "\n"
          ]
        }
      ]
    },
    {
      "source": [
        "# Install necessary library\n",
        "!pip install numpy pandas\n",
        "\n",
        "# Import necessary libraries\n",
        "import pandas as pd\n",
        "import numpy as np\n",
        "from scipy.stats import iqr  # Assuming you're using scipy's iqr\n",
        "\n",
        "# ... (your previous code to load DataFrame 'd') ...\n",
        "\n",
        "# Check the available columns in your DataFrame\n",
        "print(d.columns)\n",
        "\n",
        "# Replace 'longitude', 'latitude', etc. with actual column names from your DataFrame\n",
        "print(\"IQR value of Avg. Area Income\")  # Changed to an existing column name\n",
        "iqr_longitude = iqr(d['Avg. Area Income'])\n",
        "print(iqr_longitude)\n",
        "print(\"\")\n",
        "print(\"IQR value of Avg. Area House Age\")  # Changed to an existing column name\n",
        "iqr_latitude = iqr(d['Avg. Area House Age'])\n",
        "print(iqr_latitude)\n",
        "print(\"\")\n",
        "# ... (similarly for other columns) ..."
      ],
      "cell_type": "code",
      "metadata": {
        "colab": {
          "base_uri": "https://localhost:8080/"
        },
        "id": "XP94kuJ001GQ",
        "outputId": "94bad385-9086-4940-de0e-c18056404e3e"
      },
      "execution_count": 23,
      "outputs": [
        {
          "output_type": "stream",
          "name": "stdout",
          "text": [
            "Requirement already satisfied: numpy in /usr/local/lib/python3.10/dist-packages (1.26.4)\n",
            "Requirement already satisfied: pandas in /usr/local/lib/python3.10/dist-packages (2.2.2)\n",
            "Requirement already satisfied: python-dateutil>=2.8.2 in /usr/local/lib/python3.10/dist-packages (from pandas) (2.8.2)\n",
            "Requirement already satisfied: pytz>=2020.1 in /usr/local/lib/python3.10/dist-packages (from pandas) (2024.2)\n",
            "Requirement already satisfied: tzdata>=2022.7 in /usr/local/lib/python3.10/dist-packages (from pandas) (2024.2)\n",
            "Requirement already satisfied: six>=1.5 in /usr/local/lib/python3.10/dist-packages (from python-dateutil>=2.8.2->pandas) (1.16.0)\n",
            "Index(['Avg. Area Income', 'Avg. Area House Age', 'Avg. Area Number of Rooms',\n",
            "       'Avg. Area Number of Bedrooms', 'Area Population', 'Price'],\n",
            "      dtype='object')\n",
            "IQR value of Avg. Area Income\n",
            "14302.77627499999\n",
            "\n",
            "IQR value of Avg. Area House Age\n",
            "1.3285254635000001\n",
            "\n"
          ]
        }
      ]
    },
    {
      "source": [
        "!pip install numpy pandas scipy\n",
        "\n",
        "import pandas as pd\n",
        "import numpy as np\n",
        "from scipy.stats import skew\n",
        "\n",
        "# Assuming your DataFrame is named 'd' and has the following columns:\n",
        "# 'Avg. Area Income', 'Avg. Area House Age', 'Avg. Area Number of Rooms',\n",
        "# 'Avg. Area Number of Bedrooms', 'Area Population', 'Price'\n",
        "\n",
        "print(\"Skewness value of Avg. Area Income\")  # Changed to an existing column name\n",
        "skewness_income = skew(d['Avg. Area Income'], axis=0, bias=True)\n",
        "print(skewness_income)\n",
        "print(\"\")\n",
        "\n",
        "print(\"Skewness value of Avg. Area House Age\")  # Changed to an existing column name\n",
        "skewness_house_age = skew(d['Avg. Area House Age'], axis=0, bias=True)\n",
        "print(skewness_house_age)\n",
        "print(\"\")\n",
        "\n",
        "print(\"Skewness value of Avg. Area Number of Rooms\")  # Changed to an existing column name\n",
        "skewness_rooms = skew(d['Avg. Area Number of Rooms'], axis=0, bias=True)\n",
        "print(skewness_rooms)\n",
        "print(\"\")\n",
        "\n",
        "print(\"Skewness value of Avg. Area Number of Bedrooms\")  # Changed to an existing column name\n",
        "skewness_bedrooms = skew(d['Avg. Area Number of Bedrooms'], axis=0, bias=True)\n",
        "print(skewness_bedrooms)\n",
        "print(\"\")\n",
        "\n",
        "print(\"Skewness value of Area Population\")  # Changed to an existing column name\n",
        "skewness_population = skew(d['Area Population'], axis=0, bias=True)\n",
        "print(skewness_population)\n",
        "print(\"\")\n",
        "\n",
        "print(\"Skewness value of Price\")  # Changed to an existing column name\n",
        "skewness_price = skew(d['Price'], axis=0, bias=True)\n",
        "print(skewness_price)\n",
        "print(\"\")"
      ],
      "cell_type": "code",
      "metadata": {
        "colab": {
          "base_uri": "https://localhost:8080/"
        },
        "id": "oFdHSgUj1FCS",
        "outputId": "d4417c6c-e588-48c5-e73c-ba6dd463c944"
      },
      "execution_count": 25,
      "outputs": [
        {
          "output_type": "stream",
          "name": "stdout",
          "text": [
            "Requirement already satisfied: numpy in /usr/local/lib/python3.10/dist-packages (1.26.4)\n",
            "Requirement already satisfied: pandas in /usr/local/lib/python3.10/dist-packages (2.2.2)\n",
            "Requirement already satisfied: scipy in /usr/local/lib/python3.10/dist-packages (1.13.1)\n",
            "Requirement already satisfied: python-dateutil>=2.8.2 in /usr/local/lib/python3.10/dist-packages (from pandas) (2.8.2)\n",
            "Requirement already satisfied: pytz>=2020.1 in /usr/local/lib/python3.10/dist-packages (from pandas) (2024.2)\n",
            "Requirement already satisfied: tzdata>=2022.7 in /usr/local/lib/python3.10/dist-packages (from pandas) (2024.2)\n",
            "Requirement already satisfied: six>=1.5 in /usr/local/lib/python3.10/dist-packages (from python-dateutil>=2.8.2->pandas) (1.16.0)\n",
            "Skewness value of Avg. Area Income\n",
            "-0.03370985850476661\n",
            "\n",
            "Skewness value of Avg. Area House Age\n",
            "-0.007211708026019969\n",
            "\n",
            "Skewness value of Avg. Area Number of Rooms\n",
            "-0.04098361033084274\n",
            "\n",
            "Skewness value of Avg. Area Number of Bedrooms\n",
            "0.37612751568905145\n",
            "\n",
            "Skewness value of Area Population\n",
            "0.05063448537927444\n",
            "\n",
            "Skewness value of Price\n",
            "-0.002717249444334567\n",
            "\n"
          ]
        }
      ]
    },
    {
      "source": [
        "!pip install numpy pandas scipy\n",
        "\n",
        "import pandas as pd\n",
        "import numpy as np\n",
        "from scipy.stats import kurtosis\n",
        "\n",
        "# Assuming your DataFrame is named 'd' and has the following columns:\n",
        "# 'Avg. Area Income', 'Avg. Area House Age', 'Avg. Area Number of Rooms',\n",
        "# 'Avg. Area Number of Bedrooms', 'Area Population', 'Price'\n",
        "\n",
        "print(\"Kurtosis value of Avg. Area Income\")  # Changed to an existing column name\n",
        "income_kurtosis = kurtosis(d['Avg. Area Income'], axis=0, bias=True)\n",
        "print(income_kurtosis)\n",
        "print(\"\")\n",
        "\n",
        "print(\"Kurtosis value of Avg. Area House Age\")  # Changed to an existing column name\n",
        "house_age_kurtosis = kurtosis(d['Avg. Area House Age'], axis=0, bias=True)\n",
        "print(house_age_kurtosis)\n",
        "print(\"\")\n",
        "\n",
        "print(\"Kurtosis value of Avg. Area Number of Rooms\")  # Changed to an existing column name\n",
        "rooms_kurtosis = kurtosis(d['Avg. Area Number of Rooms'], axis=0, bias=True)\n",
        "print(rooms_kurtosis)\n",
        "print(\"\")\n",
        "\n",
        "print(\"Kurtosis value of Avg. Area Number of Bedrooms\")  # Changed to an existing column name\n",
        "bedrooms_kurtosis = kurtosis(d['Avg. Area Number of Bedrooms'], axis=0, bias=True)\n",
        "print(bedrooms_kurtosis)\n",
        "print(\"\")\n",
        "\n",
        "print(\"Kurtosis value of Area Population\")  # Changed to an existing column name\n",
        "population_kurtosis = kurtosis(d['Area Population'], axis=0, bias=True)\n",
        "print(population_kurtosis)\n",
        "print(\"\")\n",
        "\n",
        "print(\"Kurtosis value of Price\")  # Changed to an existing column name\n",
        "price_kurtosis = kurtosis(d['Price'], axis=0, bias=True)\n",
        "print(price_kurtosis)\n",
        "print(\"\")"
      ],
      "cell_type": "code",
      "metadata": {
        "colab": {
          "base_uri": "https://localhost:8080/"
        },
        "id": "3t6_yGNO1UD6",
        "outputId": "27bbf9ee-c62e-4fff-9966-560d85392ef0"
      },
      "execution_count": 27,
      "outputs": [
        {
          "output_type": "stream",
          "name": "stdout",
          "text": [
            "Requirement already satisfied: numpy in /usr/local/lib/python3.10/dist-packages (1.26.4)\n",
            "Requirement already satisfied: pandas in /usr/local/lib/python3.10/dist-packages (2.2.2)\n",
            "Requirement already satisfied: scipy in /usr/local/lib/python3.10/dist-packages (1.13.1)\n",
            "Requirement already satisfied: python-dateutil>=2.8.2 in /usr/local/lib/python3.10/dist-packages (from pandas) (2.8.2)\n",
            "Requirement already satisfied: pytz>=2020.1 in /usr/local/lib/python3.10/dist-packages (from pandas) (2024.2)\n",
            "Requirement already satisfied: tzdata>=2022.7 in /usr/local/lib/python3.10/dist-packages (from pandas) (2024.2)\n",
            "Requirement already satisfied: six>=1.5 in /usr/local/lib/python3.10/dist-packages (from python-dateutil>=2.8.2->pandas) (1.16.0)\n",
            "Kurtosis value of Avg. Area Income\n",
            "0.044328500390600656\n",
            "\n",
            "Kurtosis value of Avg. Area House Age\n",
            "-0.08455364720167058\n",
            "\n",
            "Kurtosis value of Avg. Area Number of Rooms\n",
            "-0.07577729480771245\n",
            "\n",
            "Kurtosis value of Avg. Area Number of Bedrooms\n",
            "-0.702063955902926\n",
            "\n",
            "Kurtosis value of Area Population\n",
            "-0.00792594845876815\n",
            "\n",
            "Kurtosis value of Price\n",
            "-0.05606296627904683\n",
            "\n"
          ]
        }
      ]
    }
  ]
}
